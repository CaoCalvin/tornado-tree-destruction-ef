{
 "cells": [
  {
   "cell_type": "code",
   "execution_count": 1,
   "id": "f68746e3",
   "metadata": {},
   "outputs": [],
   "source": [
    "def truncate_lines_in_file(filename, max_length=150, truncation_marker='...'):\n",
    "    with open(filename, 'r', encoding='utf-8') as file:\n",
    "        lines = file.readlines()\n",
    "\n",
    "    truncated_lines = []\n",
    "    for line in lines:\n",
    "        line = line.rstrip('\\n')  # Remove newline for accurate length check\n",
    "        if len(line) > max_length:\n",
    "            truncated_line = line[:max_length - len(truncation_marker)] + truncation_marker\n",
    "        else:\n",
    "            truncated_line = line\n",
    "        truncated_lines.append(truncated_line + '\\n')\n",
    "\n",
    "    with open(filename, 'w', encoding='utf-8') as file:\n",
    "        file.writelines(truncated_lines)\n",
    "\n",
    "truncate_lines_in_file(r'C:\\Users\\kevin\\dev\\tornado-tree-destruction-ef\\dataset\\project_combined_trunc.xml')\n"
   ]
  }
 ],
 "metadata": {
  "kernelspec": {
   "display_name": "tf-checked",
   "language": "python",
   "name": "python3"
  },
  "language_info": {
   "codemirror_mode": {
    "name": "ipython",
    "version": 3
   },
   "file_extension": ".py",
   "mimetype": "text/x-python",
   "name": "python",
   "nbconvert_exporter": "python",
   "pygments_lexer": "ipython3",
   "version": "3.10.17"
  }
 },
 "nbformat": 4,
 "nbformat_minor": 5
}
